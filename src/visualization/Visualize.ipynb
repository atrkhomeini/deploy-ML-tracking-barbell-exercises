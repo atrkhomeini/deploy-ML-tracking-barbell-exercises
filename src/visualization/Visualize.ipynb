{
 "cells": [
  {
   "cell_type": "code",
   "execution_count": null,
   "id": "initial_id",
   "metadata": {
    "collapsed": true
   },
   "outputs": [],
   "source": [
    "import pandas as pd\n",
    "import matplotlib.pyplot as plt\n",
    "import matplotlib as mpl\n",
    "from IPython.display import display\n"
   ]
  },
  {
   "cell_type": "code",
   "execution_count": null,
   "outputs": [],
   "source": [
    "df=pd.read_pickle(\"../../data/interim/01_data_processed.pkl\")"
   ],
   "metadata": {
    "collapsed": false
   },
   "id": "4d9f6a4af28bad2b"
  },
  {
   "cell_type": "code",
   "execution_count": null,
   "outputs": [],
   "source": [
    "df"
   ],
   "metadata": {
    "collapsed": false
   },
   "id": "e2a7d5be8ea6c130"
  },
  {
   "cell_type": "code",
   "execution_count": null,
   "outputs": [],
   "source": [
    "set_df = df[df[\"set\"]==1]\n",
    "plt.plot(set_df[\"acc_y\"].reset_index(drop=True)) #this plot shown numbers of sample\n",
    "for label in df[\"label\"].unique():\n",
    "    subset = df[df[\"label\"] == label]\n",
    "    #fig, ax =plt.subplots()\n",
    "    plt.figure(figsize=(20,5))\n",
    "    plt.plot(subset[:100][\"acc_y\"].reset_index(drop=True), label=label)\n",
    "    plt.legend()\n",
    "    plt.show()"
   ],
   "metadata": {
    "collapsed": false
   },
   "id": "98f3174d8bf5053f"
  },
  {
   "cell_type": "code",
   "execution_count": null,
   "outputs": [],
   "source": [
    "#Compare medium vs Heavy\n",
    "category_df=df.query(\"label == 'squat'\").query(\"participants == 'A'\").reset_index()\n",
    "\n",
    "plt.figure(figsize=(20,5))\n",
    "category_df.groupby([\"category\"])[\"acc_y\"].plot()\n",
    "plt.title(\"Squat\")\n",
    "plt.ylabel(\"acc_y\")\n",
    "plt.xlabel(\"samples\")\n",
    "plt.legend()\n",
    "\n"
   ],
   "metadata": {
    "collapsed": false
   },
   "id": "6a041aa46339e9ee"
  },
  {
   "cell_type": "code",
   "execution_count": null,
   "outputs": [],
   "source": [
    "#compare participants\n",
    "participants_df=df.query(\"label == 'squat'\").sort_values(\"participants\").reset_index()\n",
    "\n",
    "plt.figure(figsize=(20,5))\n",
    "participants_df.groupby([\"participants\"])[\"acc_y\"].plot()\n",
    "plt.title(\"Squat\")\n",
    "plt.ylabel(\"acc_y\")\n",
    "plt.xlabel(\"samples\")\n",
    "plt.legend()"
   ],
   "metadata": {
    "collapsed": false
   },
   "id": "b993bf76ba08a8e6"
  },
  {
   "cell_type": "code",
   "execution_count": null,
   "outputs": [],
   "source": [
    "#Plot multiple axis\n",
    "label=\"squat\"\n",
    "participants=\"A\"\n",
    "all_axis_df=df.query(f\"label == '{label}'\").query(f\"participants == '{participants}'\").reset_index()\n",
    "\n",
    "plt.figure(figsize=(20,5))\n",
    "all_axis_df[[\"acc_x\",\"acc_y\",\"acc_z\"]].plot()\n",
    "plt.title(\"Squat\")\n",
    "plt.xlabel(\"samples\")\n",
    "plt.legend()"
   ],
   "metadata": {
    "collapsed": false
   },
   "id": "8508a5bfd35c4e11"
  },
  {
   "cell_type": "code",
   "execution_count": null,
   "outputs": [],
   "source": [
    "#Create a loop to plot all combination per sensor accelerometer\n",
    "labels=df['label'].unique()\n",
    "participant=df['participants'].unique()\n",
    "\n",
    "for label in labels:\n",
    "    for participants in participant:\n",
    "        all_axis_df = (df.query(f\"label == '{label}'\").query(f\"participants == '{participants}'\").reset_index())\n",
    "        \n",
    "        if len(all_axis_df)>0:\n",
    "            plt.figure(figsize=(20,5))\n",
    "            all_axis_df[[\"acc_x\",\"acc_y\",\"acc_z\"]].plot()\n",
    "            plt.title(f\"{label} ({participants})\".title())\n",
    "            plt.xlabel(\"samples\")\n",
    "            plt.ylabel(\"accelerometer\")\n",
    "            plt.legend()"
   ],
   "metadata": {
    "collapsed": false
   },
   "id": "e122465f2c91a25e"
  },
  {
   "cell_type": "code",
   "execution_count": null,
   "outputs": [],
   "source": [
    "#Create a loop to plot all combination per sensor gyroscope\n",
    "for label in labels:\n",
    "    for participants in participant:\n",
    "        all_axis_df = (df.query(f\"label == '{label}'\").query(f\"participants == '{participants}'\").reset_index())\n",
    "\n",
    "        if len(all_axis_df)>0:\n",
    "            plt.figure(figsize=(20,5))\n",
    "            all_axis_df[[\"gyr_x\",\"gyr_y\",\"gyr_z\"]].plot()\n",
    "            plt.title(f\"{label} ({participants})\".title())\n",
    "            plt.xlabel(\"samples\")\n",
    "            plt.ylabel(\"accelerometer\")\n",
    "            plt.legend()"
   ],
   "metadata": {
    "collapsed": false
   },
   "id": "cac9078713e92903"
  },
  {
   "cell_type": "code",
   "execution_count": null,
   "outputs": [],
   "source": [
    "#Combine plots in one figure\n",
    "label=\"squat\"\n",
    "participants=\"A\"\n",
    "combined_plot_df=(df.query(f\"label == '{label}'\").query(f\"participants == '{participants}'\").reset_index(drop=True))\n",
    "\n",
    "fig, ax=plt.subplots(nrows=2, sharex=True, figsize=(20,10))\n",
    "combined_plot_df[[\"acc_x\",\"acc_y\",\"acc_z\"]].plot(ax=ax[0])\n",
    "combined_plot_df[[\"gyr_x\",\"gyr_y\",\"gyr_z\"]].plot(ax=ax[1])\n",
    "\n",
    "ax[0].legend(loc=\"upper center\", bbox_to_anchor=(0.5, 1.15),ncol=3, fancybox=True, shadow=True)\n",
    "ax[1].legend(loc=\"upper center\", bbox_to_anchor=(0.5, 1.15),ncol=3, fancybox=True, shadow=True)\n",
    "ax[1].set_xlabel(\"samples\")"
   ],
   "metadata": {
    "collapsed": false
   },
   "id": "9c7b30a702fc7bd6"
  },
  {
   "cell_type": "code",
   "execution_count": null,
   "outputs": [],
   "source": [
    "labels=df[\"label\"].unique()\n",
    "participant=df[\"participants\"].unique()\n",
    "\n",
    "for label in labels:\n",
    "    for participants in participant:\n",
    "        combined_plot_df = (df.query(f\"label == '{label}'\").query(f\"participants == '{participants}'\").reset_index())\n",
    "\n",
    "    if len(combined_plot_df)>0:\n",
    "        fig, ax =plt.subplots(nrows=2, sharex=True, figsize=(20,10))\n",
    "        combined_plot_df[[\"acc_x\",\"acc_y\",\"acc_z\"]].plot(ax=ax[0])\n",
    "        combined_plot_df[[\"gyr_x\",\"gyr_y\",\"gyr_z\"]].plot(ax=ax[1])\n",
    "        ax[0].legend(loc=\"upper center\", bbox_to_anchor=(0.5, 1.15),ncol=3, fancybox=True, shadow=True)\n",
    "        ax[1].legend(loc=\"upper center\", bbox_to_anchor=(0.5, 1.15),ncol=3, fancybox=True, shadow=True)\n",
    "        ax[1].set_xlabel(\"samples\")\n",
    "        plt.show()\n",
    "        #plt.savefig(f\"../../reports/figures/{label.title()} ({participants}).png\")"
   ],
   "metadata": {
    "collapsed": false
   },
   "id": "fb32a0deaa5b438e"
  },
  {
   "cell_type": "code",
   "execution_count": null,
   "outputs": [],
   "source": [
    " "
   ],
   "metadata": {
    "collapsed": false
   },
   "id": "f8c5564488b1a9f6"
  }
 ],
 "metadata": {
  "kernelspec": {
   "display_name": "Python 3",
   "language": "python",
   "name": "python3"
  },
  "language_info": {
   "codemirror_mode": {
    "name": "ipython",
    "version": 2
   },
   "file_extension": ".py",
   "mimetype": "text/x-python",
   "name": "python",
   "nbconvert_exporter": "python",
   "pygments_lexer": "ipython2",
   "version": "2.7.6"
  }
 },
 "nbformat": 4,
 "nbformat_minor": 5
}
